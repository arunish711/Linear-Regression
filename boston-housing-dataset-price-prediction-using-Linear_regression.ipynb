{
 "cells": [
  {
   "cell_type": "code",
   "execution_count": 69,
   "metadata": {},
   "outputs": [],
   "source": [
    "from sklearn import preprocessing\n",
    "import numpy as np\n",
    "import pandas as pd"
   ]
  },
  {
   "cell_type": "code",
   "execution_count": 70,
   "metadata": {},
   "outputs": [],
   "source": [
    "def step_gradient(m,learning_rate,x_train,y_train):\n",
    "    new_m=np.zeros(m.shape[0])\n",
    "    col=x_train.shape[1]\n",
    "    row=x_train.shape[0]\n",
    "    for i in range(col):\n",
    "        for j in range(row):\n",
    "            y=y_train[j]\n",
    "            x=x_train[j,i]\n",
    "            new_m[i]+=(-2/row)*(y-m[i]*x-m[13])*x\n",
    "            new_m[13]+=(-2/row)*(y-m[i]*x-m[13])\n",
    "        m[i]=m[i]-new_m[i]*learning_rate\n",
    "        m[13]=m[13]-new_m[13]*learning_rate\n",
    "    return m"
   ]
  },
  {
   "cell_type": "code",
   "execution_count": 71,
   "metadata": {},
   "outputs": [],
   "source": [
    "def gd(x_train,y_train,m):\n",
    "    learning_rate=0.0001\n",
    "    num_iterations=1000\n",
    "    for i in range(num_iterations):\n",
    "        m=step_gradient(m,learning_rate,x_train,y_train)\n",
    "    return m"
   ]
  },
  {
   "cell_type": "code",
   "execution_count": 72,
   "metadata": {},
   "outputs": [],
   "source": [
    "def predict(m,data_test):\n",
    "    y_predict=[0 for i in range(127)]\n",
    "    y_predict=np.array(y_predict)\n",
    "    for i in range(127):\n",
    "        c=m[13]\n",
    "        y=0\n",
    "        for j in range(13):\n",
    "            y=y+m[j]*data_test[i,j]\n",
    "        y=y+c\n",
    "        y_predict[i]=y\n",
    "    return y_predict\n",
    "        \n",
    "            "
   ]
  },
  {
   "cell_type": "code",
   "execution_count": 74,
   "metadata": {},
   "outputs": [],
   "source": [
    "data=np.genfromtxt(\"0000000000002417_training_boston_x_y_train.csv\",delimiter=\",\")\n",
    "data_test=np.genfromtxt(\"0000000000002417_test_boston_x_test.csv\",delimiter=\",\")\n",
    "x_train=data[:,0:13]\n",
    "y_train=data[:,13]\n",
    "scaler=preprocessing.StandardScaler()\n",
    "scaler.fit(x_train)\n",
    "x_train=scaler.transform(x_train)\n",
    "data_test=scaler.transform(data_test)\n",
    "t=x_train.shape[1]+1\n",
    "m=np.zeros(t)\n",
    "m=gd(x_train,y_train,m)\n",
    "y_predict=predict(m,data_test)\n",
    "np.savetxt(\"y_predictions.csv\",y_predict,delimiter=\",\")\n"
   ]
  }
 ],
 "metadata": {
  "kernelspec": {
   "display_name": "Python 3",
   "language": "python",
   "name": "python3"
  },
  "language_info": {
   "codemirror_mode": {
    "name": "ipython",
    "version": 3
   },
   "file_extension": ".py",
   "mimetype": "text/x-python",
   "name": "python",
   "nbconvert_exporter": "python",
   "pygments_lexer": "ipython3",
   "version": "3.7.3"
  }
 },
 "nbformat": 4,
 "nbformat_minor": 2
}
